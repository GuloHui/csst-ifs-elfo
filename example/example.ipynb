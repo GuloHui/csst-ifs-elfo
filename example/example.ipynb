{
 "cells": [
  {
   "cell_type": "markdown",
   "metadata": {},
   "source": [
    "<img src=\"https://github.com/GuloHui/csst-ifs-elfo/blob/main/docs/source/figures/logo.png?raw=true\" width=\"500\">\n"
   ]
  },
  {
   "cell_type": "markdown",
   "metadata": {},
   "source": [
    "## Install\n",
    "\n",
    "\n",
    "``git clone https://github.com/GuloHui/csst-ifs-elfo``<br>\n",
    "\n",
    "``cd csst-ifs-elfo``<br>\n",
    "\n",
    "``python -m pip install .``<br>\n",
    "\n"
   ]
  },
  {
   "cell_type": "markdown",
   "metadata": {},
   "source": [
    "## Usage"
   ]
  },
  {
   "cell_type": "markdown",
   "metadata": {},
   "source": [
    "### Import Required Modules and Functions\n"
   ]
  },
  {
   "cell_type": "code",
   "execution_count": 65,
   "metadata": {},
   "outputs": [],
   "source": [
    "from elfo import process_i_refit\n",
    "import numpy as np\n",
    "from astropy.io import fits\n",
    "from astropy.table import Table\n",
    "import os"
   ]
  },
  {
   "cell_type": "markdown",
   "metadata": {},
   "source": [
    "### Set up the model input parameters\n",
    "\n",
    "Parameters are copied from [this example notebook](https://github.com/legolason/PyQSOFit/blob/master/example/example.ipynb)."
   ]
  },
  {
   "cell_type": "code",
   "execution_count": 66,
   "metadata": {},
   "outputs": [],
   "source": [
    "path_ex = '.' #os.path.join(pyqsofit.__path__[0], '..', 'example')\n",
    "\n",
    "# create a header\n",
    "hdr0 = fits.Header()\n",
    "hdr0['Author'] = 'Hengxiao Guo'\n",
    "primary_hdu = fits.PrimaryHDU(header=hdr0)"
   ]
  },
  {
   "cell_type": "code",
   "execution_count": 67,
   "metadata": {},
   "outputs": [],
   "source": [
    "\"\"\"\n",
    "In this table, we specify the priors / initial conditions and boundaries for the line fitting parameters.\n",
    "\"\"\"\n",
    "\n",
    "line_priors = np.rec.array([\n",
    "    (6564.61, 'Ha', 6400, 6800, 'Ha_br1', 1, 0.0, 0.0, 1e10, 5e-3, 0.0017, 0.05, 0.015, 0, 0, 0, 0.05, 1),\n",
    "    (6564.61, 'Ha', 6400, 6800, 'Ha_br2', 1, 0.0, 0.0, 1e10, 5e-3, 0.0017, 0.05, 0.015, 0, 0, 0, 0.05, 1),\n",
    "    (6564.61, 'Ha', 6400, 6800, 'Ha_na', 1, 0.0, 0.0, 1e10, 5e-4, 1.2e-4, 0.00169, 0.01, 1, 1, 0, 0.002, 1),\n",
    "    (6549.85, 'Ha', 6400, 6800, 'NII6549', 1, 0.0, 0.0, 1e10, 5e-4, 1.2e-4, 0.00169, 5e-3, 1, 1, 1, 0.001, 1),\n",
    "    (6585.28, 'Ha', 6400, 6800, 'NII6585', 1, 0.0, 0.0, 1e10, 5e-4, 1.2e-4, 0.00169, 5e-3, 1, 1, 1, 0.003, 1),\n",
    "    (6718.29, 'Ha', 6400, 6800, 'SII6718', 1, 0.0, 0.0, 1e10, 5e-4, 1.2e-4, 0.00169, 5e-3, 1, 1, 2, 0.001, 1),\n",
    "    (6732.67, 'Ha', 6400, 6800, 'SII6732', 1, 0.0, 0.0, 1e10, 5e-4, 1.2e-4, 0.00169, 5e-3, 1, 1, 2, 0.001, 1),\n",
    "\n",
    "    (4862.68, 'Hb', 4640, 5100, 'Hb_br1', 1, 0.0, 0.0, 1e10, 5e-3, 0.0017, 0.05, 0.01, 0, 0, 0, 0.01, 1),\n",
    "    (4862.68, 'Hb', 4640, 5100, 'Hb_br2', 1, 0.0, 0.0, 1e10, 5e-3, 0.0017, 0.05, 0.01, 0, 0, 0, 0.01, 1),\n",
    "    (4862.68, 'Hb', 4640, 5100, 'Hb_na', 1, 0.0, 0.0, 1e10, 5e-4, 2.4e-4, 0.00169, 0.01, 1, 1, 0, 0.002, 1),\n",
    "    (4960.30, 'Hb', 4640, 5100, 'OIII4959c', 1, 0.0, 0.0, 1e10, 5e-4, 2.4e-4, 0.00169, 0.01, 1, 1, 0, 0.002, 1),\n",
    "    (5008.24, 'Hb', 4640, 5100, 'OIII5007c', 1, 0.0, 0.0, 1e10, 5e-4, 2.4e-4, 0.00169, 0.01, 1, 1, 0, 0.004, 1),\n",
    "    (4960.30, 'Hb', 4640, 5100, 'OIII4959w',   1, 0.0, 0.0, 1e10, 3e-3, 2.4e-4, 0.004,  0.01,  2, 2, 0, 0.001, 1),\n",
    "    (5008.24, 'Hb', 4640, 5100, 'OIII5007w',   1, 0.0, 0.0, 1e10, 3e-3, 2.4e-4, 0.004,  0.01,  2, 2, 0, 0.002, 1),\n",
    "    # (4687.02, 'Hb', 4640, 5100, 'HeII4687_br', 1, 0.0, 0.0, 1e10, 5e-3, 0.004,  0.05,   0.005, 0, 0, 0, 0.001, 1),\n",
    "    # (4687.02, 'Hb', 4640, 5100, 'HeII4687_na', 1, 0.0, 0.0, 1e10, 1e-3, 2.3e-4, 0.00169, 0.005, 1, 1, 0, 0.001, 1),\n",
    "\n",
    "    #(3934.78, 'CaII', 3900, 3960, 'CaII3934' , 2, 0.0, 0.0, 1e10, 1e-3, 3.333e-4, 0.00169, 0.01, 99, 0, 0, -0.001, 1),\n",
    "\n",
    "    #(3728.48, 'OII', 3650, 3800, 'OII3728', 1, 0.0, 0.0, 1e10, 1e-3, 3.333e-4, 0.00169, 0.01, 1, 1, 0, 0.001, 1),\n",
    "\n",
    "    #(3426.84, 'NeV', 3380, 3480, 'NeV3426',    1, 0.0, 0.0, 1e10, 1e-3, 3.333e-4, 0.00169, 0.01, 0, 0, 0, 0.001, 1),\n",
    "    #(3426.84, 'NeV', 3380, 3480, 'NeV3426_br', 1, 0.0, 0.0, 1e10, 5e-3, 0.0025,   0.02,   0.01, 0, 0, 0, 0.001, 1),\n",
    "\n",
    "    (2798.75, 'MgII', 2700, 2900, 'MgII_br', 2, 0.0, 0.0, 1e10, 5e-3, 0.004, 0.05, 0.015, 0, 0, 0, 0.05, 1),\n",
    "    (2798.75, 'MgII', 2700, 2900, 'MgII_na', 1, 0.0, 0.0, 1e10, 1e-3, 5e-4, 0.00169, 0.01, 1, 1, 0, 0.002, 1),\n",
    "\n",
    "    (1908.73, 'CIII', 1700, 1970, 'CIII_br', 2, 0.0, 0.0, 1e10, 5e-3, 0.004, 0.05, 0.015, 99, 0, 0, 0.01, 1),\n",
    "    #(1908.73, 'CIII', 1700, 1970, 'CIII_na',   1, 0.0, 0.0, 1e10, 1e-3, 5e-4,  0.00169, 0.01,  1, 1, 0, 0.002, 1),\n",
    "    #(1892.03, 'CIII', 1700, 1970, 'SiIII1892', 1, 0.0, 0.0, 1e10, 2e-3, 0.001, 0.015,  0.003, 1, 1, 0, 0.005, 1),\n",
    "    #(1857.40, 'CIII', 1700, 1970, 'AlIII1857', 1, 0.0, 0.0, 1e10, 2e-3, 0.001, 0.015,  0.003, 1, 1, 0, 0.005, 1),\n",
    "    #(1816.98, 'CIII', 1700, 1970, 'SiII1816',  1, 0.0, 0.0, 1e10, 2e-3, 0.001, 0.015,  0.01,  1, 1, 0, 0.0002, 1),\n",
    "    #(1786.7,  'CIII', 1700, 1970, 'FeII1787',  1, 0.0, 0.0, 1e10, 2e-3, 0.001, 0.015,  0.01,  1, 1, 0, 0.0002, 1),\n",
    "    #(1750.26, 'CIII', 1700, 1970, 'NIII1750',  1, 0.0, 0.0, 1e10, 2e-3, 0.001, 0.015,  0.01,  1, 1, 0, 0.001, 1),\n",
    "    #(1718.55, 'CIII', 1700, 1900, 'NIV1718',   1, 0.0, 0.0, 1e10, 2e-3, 0.001, 0.015,  0.01,  1, 1, 0, 0.001, 1),\n",
    "\n",
    "    (1549.06, 'CIV', 1500, 1700, 'CIV_br', 2, 0.0, 0.0, 1e10, 5e-3, 0.004, 0.05, 0.015, 0, 0, 0, 0.05, 1),\n",
    "    # (1549.06, 'CIV', 1500, 1700, 'CIV_na', 1, 0.0, 0.0, 1e10, 1e-3, 5e-4, 0.00169, 0.01, 1, 1, 0, 0.002, 1),\n",
    "    #(1640.42, 'CIV', 1500, 1700, 'HeII1640',    1, 0.0, 0.0, 1e10, 1e-3, 5e-4,   0.00169, 0.008, 1, 1, 0, 0.002, 1),\n",
    "    #(1663.48, 'CIV', 1500, 1700, 'OIII1663',    1, 0.0, 0.0, 1e10, 1e-3, 5e-4,   0.00169, 0.008, 1, 1, 0, 0.002, 1),\n",
    "    #(1640.42, 'CIV', 1500, 1700, 'HeII1640_br', 1, 0.0, 0.0, 1e10, 5e-3, 0.0025, 0.02,   0.008, 1, 1, 0, 0.002, 1),\n",
    "    #(1663.48, 'CIV', 1500, 1700, 'OIII1663_br', 1, 0.0, 0.0, 1e10, 5e-3, 0.0025, 0.02,   0.008, 1, 1, 0, 0.002, 1),\n",
    "\n",
    "    #(1402.06, 'SiIV', 1290, 1450, 'SiIV_OIV1', 1, 0.0, 0.0, 1e10, 5e-3, 0.002, 0.05,  0.015, 1, 1, 0, 0.05, 1),\n",
    "    #(1396.76, 'SiIV', 1290, 1450, 'SiIV_OIV2', 1, 0.0, 0.0, 1e10, 5e-3, 0.002, 0.05,  0.015, 1, 1, 0, 0.05, 1),\n",
    "    #(1335.30, 'SiIV', 1290, 1450, 'CII1335',   1, 0.0, 0.0, 1e10, 2e-3, 0.001, 0.015, 0.01,  1, 1, 0, 0.001, 1),\n",
    "    #(1304.35, 'SiIV', 1290, 1450, 'OI1304',    1, 0.0, 0.0, 1e10, 2e-3, 0.001, 0.015, 0.01,  1, 1, 0, 0.001, 1),\n",
    "\n",
    "    (1215.67, 'Lya', 1150, 1290, 'Lya_br', 3, 0.0, 0.0, 1e10, 5e-3, 0.002, 0.05, 0.02, 0, 0, 0, 0.05, 1),\n",
    "    (1240.14, 'Lya', 1150, 1290, 'NV1240', 1, 0.0, 0.0, 1e10, 2e-3, 0.001, 0.01, 0.005, 0, 0, 0, 0.002, 1),\n",
    "    # (1215.67, 'Lya', 1150, 1290, 'Lya_na', 1, 0.0, 0.0, 1e10, 1e-3, 5e-4, 0.00169, 0.01, 0, 0, 0, 0.002, 1),\n",
    "    ],\n",
    "\n",
    "    formats='float32,    a20,  float32, float32,      a20,  int32, float32, float32, float32, float32, float32, float32, float32,   int32,  int32,  int32, float32, int32',\n",
    "    names=' lambda, compname,   minwav,  maxwav, linename, ngauss,  inisca,  minsca,  maxsca,  inisig,  minsig,  maxsig,    voff,  vindex, windex, findex,  fvalue,  vary')\n",
    "\n",
    "\n",
    "# Header\n",
    "hdr1 = fits.Header()\n",
    "hdr1['lambda'] = 'Vacuum Wavelength in Ang'\n",
    "hdr1['minwav'] = 'Lower complex fitting wavelength range'\n",
    "hdr1['maxwav'] = 'Upper complex fitting wavelength range'\n",
    "hdr1['ngauss'] = 'Number of Gaussians for the line'\n",
    "\n",
    "# Can be set to negative for absorption lines if you want\n",
    "hdr1['inisca'] = 'Initial guess of line scale [flux]'\n",
    "hdr1['minsca'] = 'Lower range of line scale [flux]'\n",
    "hdr1['maxsca'] = 'Upper range of line scale [flux]'\n",
    "\n",
    "hdr1['inisig'] = 'Initial guess of linesigma [lnlambda]'\n",
    "hdr1['minsig'] = 'Lower range of line sigma [lnlambda]'\n",
    "hdr1['maxsig'] = 'Upper range of line sigma [lnlambda]'\n",
    "\n",
    "hdr1['voff  '] = 'Limits on velocity offset from the central wavelength [lnlambda]'\n",
    "hdr1['vindex'] = 'Entries w/ same NONZERO vindex constrained to have same velocity'\n",
    "hdr1['windex'] = 'Entries w/ same NONZERO windex constrained to have same width'\n",
    "hdr1['findex'] = 'Entries w/ same NONZERO findex have constrained flux ratios'\n",
    "hdr1['fvalue'] = 'Relative scale factor for entries w/ same findex'\n",
    "\n",
    "hdr1['vary'] = 'Whether or not to vary the parameter (set to 0 to fix the line parameter to initial values)'\n",
    "\n",
    "# Save line info\n",
    "hdu1 = fits.BinTableHDU(data=line_priors, header=hdr1, name='line_priors')"
   ]
  },
  {
   "cell_type": "code",
   "execution_count": 68,
   "metadata": {},
   "outputs": [],
   "source": [
    "\"\"\"\n",
    "In this table, we specify the windows and priors / initial conditions and boundaries for the continuum fitting parameters.\n",
    "\"\"\"\n",
    "\n",
    "conti_windows = np.rec.array([\n",
    "    (1150., 1170.), \n",
    "    (1275., 1290.),\n",
    "    (1350., 1360.),\n",
    "    (1445., 1465.),\n",
    "    (1690., 1705.),\n",
    "    (1770., 1810.),\n",
    "    (1970., 2400.),\n",
    "    (2480., 2675.),\n",
    "    (2925., 3400.),\n",
    "    (3775., 3832.),\n",
    "    (4000., 4050.),\n",
    "    (4200., 4230.),\n",
    "    (4435., 4640.),\n",
    "    (5100., 5535.),\n",
    "    (6005., 6035.),\n",
    "    (6110., 6250.),\n",
    "    (6800., 7000.),\n",
    "    (7160., 7180.),\n",
    "    (7500., 7800.),\n",
    "    (8050., 8150.), # Continuum fitting windows (to avoid emission line, etc.)  [AA]\n",
    "    ], \n",
    "    formats = 'float32,  float32',\n",
    "    names =    'min,     max')\n",
    "\n",
    "hdu2 = fits.BinTableHDU(data=conti_windows, name='conti_windows')\n",
    "\n",
    "conti_priors = np.rec.array([\n",
    "    ('Fe_uv_norm',  0.0,   0.0,   1e10,  1), # Normalization of the MgII Fe template [flux]\n",
    "    ('Fe_uv_FWHM',  3000,  1200,  18000, 1), # FWHM of the MgII Fe template [AA]\n",
    "    ('Fe_uv_shift', 0.0,   -0.01, 0.01,  1), # Wavelength shift of the MgII Fe template [lnlambda]\n",
    "    ('Fe_op_norm',  0.0,   0.0,   1e10,  1), # Normalization of the Hbeta/Halpha Fe template [flux]\n",
    "    ('Fe_op_FWHM',  3000,  1200,  18000, 1), # FWHM of the Hbeta/Halpha Fe template [AA]\n",
    "    ('Fe_op_shift', 0.0,   -0.01, 0.01,  1), # Wavelength shift of the Hbeta/Halpha Fe template [lnlambda]\n",
    "    ('PL_norm',     1.0,   0.0,   1e10,  1), # Normalization of the power-law (PL) continuum f_lambda = (lambda/3000)^-alpha\n",
    "    ('PL_slope',    -1.5,  -5.0,  3.0,   1), # Slope of the power-law (PL) continuum\n",
    "    ('Blamer_norm', 0.0,   0.0,   1e10,  1), # Normalization of the Balmer continuum at < 3646 AA [flux] (Dietrich et al. 2002)\n",
    "    ('Balmer_Te',   15000, 10000, 50000, 1), # Te of the Balmer continuum at < 3646 AA [K?]\n",
    "    ('Balmer_Tau',  0.5,   0.1,   2.0,   1), # Tau of the Balmer continuum at < 3646 AA\n",
    "    ('conti_a_0',   0.0,   None,  None,  1), # 1st coefficient of the polynomial continuum\n",
    "    ('conti_a_1',   0.0,   None,  None,  1), # 2nd coefficient of the polynomial continuum\n",
    "    ('conti_a_2',   0.0,   None,  None,  1), # 3rd coefficient of the polynomial continuum\n",
    "    # Note: The min/max bounds on the conti_a_0 coefficients are ignored by the code,\n",
    "    # so they can be determined automatically for numerical stability.\n",
    "    ],\n",
    "\n",
    "    formats = 'a20,  float32, float32, float32, int32',\n",
    "    names = 'parname, initial,   min,     max,     vary')\n",
    "\n",
    "hdr3 = fits.Header()\n",
    "hdr3['ini'] = 'Initial guess of line scale [flux]'\n",
    "hdr3['min'] = 'FWHM of the MgII Fe template'\n",
    "hdr3['max'] = 'Wavelength shift of the MgII Fe template'\n",
    "\n",
    "hdr3['vary'] = 'Whether or not to vary the parameter (set to 0 to fix the continuum parameter to initial values)'\n",
    "\n",
    "\n",
    "hdu3 = fits.BinTableHDU(data=conti_priors, header=hdr3, name='conti_priors')"
   ]
  },
  {
   "cell_type": "code",
   "execution_count": 69,
   "metadata": {},
   "outputs": [],
   "source": [
    "\"\"\"\n",
    "In this table, we allow user to customized some key parameters in our result measurements.\n",
    "\"\"\"\n",
    "\n",
    "measure_info = Table(\n",
    "    [\n",
    "        [[1350, 1450, 3000, 4200, 5100]],\n",
    "        [[\n",
    "            # [2240, 2650], \n",
    "            [4435, 4685],\n",
    "        ]]\n",
    "    ],\n",
    "    names=([\n",
    "        'cont_loc',\n",
    "        'Fe_flux_range'\n",
    "    ]),\n",
    "    dtype=([\n",
    "        'float32',\n",
    "        'float32'\n",
    "    ])\n",
    ")\n",
    "hdr4 = fits.Header()\n",
    "hdr4['cont_loc'] = 'The wavelength of continuum luminosity in results'\n",
    "hdr4['Fe_flux_range'] = 'Fe emission wavelength range calculated in results'\n",
    "\n",
    "hdu4 = fits.BinTableHDU(data=measure_info, header=hdr4, name='measure_info')\n",
    "\n",
    "hdu_list = fits.HDUList([primary_hdu, hdu1, hdu2, hdu3, hdu4])\n",
    "hdu_list.writeto(os.path.join(path_ex, 'qsopar_std.fits'), overwrite=True)"
   ]
  },
  {
   "cell_type": "markdown",
   "metadata": {},
   "source": [
    "__Print the table:__"
   ]
  },
  {
   "cell_type": "code",
   "execution_count": 74,
   "metadata": {},
   "outputs": [
    {
     "data": {
      "text/html": [
       "<div><i>Table length=20</i>\n",
       "<table id=\"table13179815248\" class=\"table-striped table-bordered table-condensed\">\n",
       "<thead><tr><th>lambda</th><th>compname</th><th>minwav</th><th>maxwav</th><th>linename</th><th>ngauss</th><th>inisca</th><th>minsca</th><th>maxsca</th><th>inisig</th><th>minsig</th><th>maxsig</th><th>voff</th><th>vindex</th><th>windex</th><th>findex</th><th>fvalue</th><th>vary</th></tr></thead>\n",
       "<thead><tr><th>float32</th><th>str20</th><th>float32</th><th>float32</th><th>str20</th><th>int32</th><th>float32</th><th>float32</th><th>float32</th><th>float32</th><th>float32</th><th>float32</th><th>float32</th><th>int32</th><th>int32</th><th>int32</th><th>float32</th><th>int32</th></tr></thead>\n",
       "<tr><td>6564.61</td><td>Ha</td><td>6400.0</td><td>6800.0</td><td>Ha_br1</td><td>1</td><td>0.0</td><td>0.0</td><td>10000000000.0</td><td>0.005</td><td>0.0017</td><td>0.05</td><td>0.015</td><td>0</td><td>0</td><td>0</td><td>0.05</td><td>1</td></tr>\n",
       "<tr><td>6564.61</td><td>Ha</td><td>6400.0</td><td>6800.0</td><td>Ha_br2</td><td>1</td><td>0.0</td><td>0.0</td><td>10000000000.0</td><td>0.005</td><td>0.0017</td><td>0.05</td><td>0.015</td><td>0</td><td>0</td><td>0</td><td>0.05</td><td>1</td></tr>\n",
       "<tr><td>6564.61</td><td>Ha</td><td>6400.0</td><td>6800.0</td><td>Ha_na</td><td>1</td><td>0.0</td><td>0.0</td><td>10000000000.0</td><td>0.0005</td><td>0.00012</td><td>0.00169</td><td>0.01</td><td>1</td><td>1</td><td>0</td><td>0.002</td><td>1</td></tr>\n",
       "<tr><td>6549.85</td><td>Ha</td><td>6400.0</td><td>6800.0</td><td>NII6549</td><td>1</td><td>0.0</td><td>0.0</td><td>10000000000.0</td><td>0.0005</td><td>0.00012</td><td>0.00169</td><td>0.005</td><td>1</td><td>1</td><td>1</td><td>0.001</td><td>1</td></tr>\n",
       "<tr><td>6585.28</td><td>Ha</td><td>6400.0</td><td>6800.0</td><td>NII6585</td><td>1</td><td>0.0</td><td>0.0</td><td>10000000000.0</td><td>0.0005</td><td>0.00012</td><td>0.00169</td><td>0.005</td><td>1</td><td>1</td><td>1</td><td>0.003</td><td>1</td></tr>\n",
       "<tr><td>6718.29</td><td>Ha</td><td>6400.0</td><td>6800.0</td><td>SII6718</td><td>1</td><td>0.0</td><td>0.0</td><td>10000000000.0</td><td>0.0005</td><td>0.00012</td><td>0.00169</td><td>0.005</td><td>1</td><td>1</td><td>2</td><td>0.001</td><td>1</td></tr>\n",
       "<tr><td>6732.67</td><td>Ha</td><td>6400.0</td><td>6800.0</td><td>SII6732</td><td>1</td><td>0.0</td><td>0.0</td><td>10000000000.0</td><td>0.0005</td><td>0.00012</td><td>0.00169</td><td>0.005</td><td>1</td><td>1</td><td>2</td><td>0.001</td><td>1</td></tr>\n",
       "<tr><td>4862.68</td><td>Hb</td><td>4640.0</td><td>5100.0</td><td>Hb_br1</td><td>1</td><td>0.0</td><td>0.0</td><td>10000000000.0</td><td>0.005</td><td>0.0017</td><td>0.05</td><td>0.01</td><td>0</td><td>0</td><td>0</td><td>0.01</td><td>1</td></tr>\n",
       "<tr><td>4862.68</td><td>Hb</td><td>4640.0</td><td>5100.0</td><td>Hb_br2</td><td>1</td><td>0.0</td><td>0.0</td><td>10000000000.0</td><td>0.005</td><td>0.0017</td><td>0.05</td><td>0.01</td><td>0</td><td>0</td><td>0</td><td>0.01</td><td>1</td></tr>\n",
       "<tr><td>4862.68</td><td>Hb</td><td>4640.0</td><td>5100.0</td><td>Hb_na</td><td>1</td><td>0.0</td><td>0.0</td><td>10000000000.0</td><td>0.0005</td><td>0.00024</td><td>0.00169</td><td>0.01</td><td>1</td><td>1</td><td>0</td><td>0.002</td><td>1</td></tr>\n",
       "<tr><td>4960.3</td><td>Hb</td><td>4640.0</td><td>5100.0</td><td>OIII4959c</td><td>1</td><td>0.0</td><td>0.0</td><td>10000000000.0</td><td>0.0005</td><td>0.00024</td><td>0.00169</td><td>0.01</td><td>1</td><td>1</td><td>0</td><td>0.002</td><td>1</td></tr>\n",
       "<tr><td>5008.24</td><td>Hb</td><td>4640.0</td><td>5100.0</td><td>OIII5007c</td><td>1</td><td>0.0</td><td>0.0</td><td>10000000000.0</td><td>0.0005</td><td>0.00024</td><td>0.00169</td><td>0.01</td><td>1</td><td>1</td><td>0</td><td>0.004</td><td>1</td></tr>\n",
       "<tr><td>4960.3</td><td>Hb</td><td>4640.0</td><td>5100.0</td><td>OIII4959w</td><td>1</td><td>0.0</td><td>0.0</td><td>10000000000.0</td><td>0.003</td><td>0.00024</td><td>0.004</td><td>0.01</td><td>2</td><td>2</td><td>0</td><td>0.001</td><td>1</td></tr>\n",
       "<tr><td>5008.24</td><td>Hb</td><td>4640.0</td><td>5100.0</td><td>OIII5007w</td><td>1</td><td>0.0</td><td>0.0</td><td>10000000000.0</td><td>0.003</td><td>0.00024</td><td>0.004</td><td>0.01</td><td>2</td><td>2</td><td>0</td><td>0.002</td><td>1</td></tr>\n",
       "<tr><td>2798.75</td><td>MgII</td><td>2700.0</td><td>2900.0</td><td>MgII_br</td><td>2</td><td>0.0</td><td>0.0</td><td>10000000000.0</td><td>0.005</td><td>0.004</td><td>0.05</td><td>0.015</td><td>0</td><td>0</td><td>0</td><td>0.05</td><td>1</td></tr>\n",
       "<tr><td>2798.75</td><td>MgII</td><td>2700.0</td><td>2900.0</td><td>MgII_na</td><td>1</td><td>0.0</td><td>0.0</td><td>10000000000.0</td><td>0.001</td><td>0.0005</td><td>0.00169</td><td>0.01</td><td>1</td><td>1</td><td>0</td><td>0.002</td><td>1</td></tr>\n",
       "<tr><td>1908.73</td><td>CIII</td><td>1700.0</td><td>1970.0</td><td>CIII_br</td><td>2</td><td>0.0</td><td>0.0</td><td>10000000000.0</td><td>0.005</td><td>0.004</td><td>0.05</td><td>0.015</td><td>99</td><td>0</td><td>0</td><td>0.01</td><td>1</td></tr>\n",
       "<tr><td>1549.06</td><td>CIV</td><td>1500.0</td><td>1700.0</td><td>CIV_br</td><td>2</td><td>0.0</td><td>0.0</td><td>10000000000.0</td><td>0.005</td><td>0.004</td><td>0.05</td><td>0.015</td><td>0</td><td>0</td><td>0</td><td>0.05</td><td>1</td></tr>\n",
       "<tr><td>1215.67</td><td>Lya</td><td>1150.0</td><td>1290.0</td><td>Lya_br</td><td>3</td><td>0.0</td><td>0.0</td><td>10000000000.0</td><td>0.005</td><td>0.002</td><td>0.05</td><td>0.02</td><td>0</td><td>0</td><td>0</td><td>0.05</td><td>1</td></tr>\n",
       "<tr><td>1240.14</td><td>Lya</td><td>1150.0</td><td>1290.0</td><td>NV1240</td><td>1</td><td>0.0</td><td>0.0</td><td>10000000000.0</td><td>0.002</td><td>0.001</td><td>0.01</td><td>0.005</td><td>0</td><td>0</td><td>0</td><td>0.002</td><td>1</td></tr>\n",
       "</table></div>"
      ],
      "text/plain": [
       "<Table length=20>\n",
       " lambda compname  minwav  maxwav  linename ... windex findex  fvalue  vary\n",
       "float32  str20   float32 float32   str20   ... int32  int32  float32 int32\n",
       "------- -------- ------- ------- --------- ... ------ ------ ------- -----\n",
       "6564.61       Ha  6400.0  6800.0    Ha_br1 ...      0      0    0.05     1\n",
       "6564.61       Ha  6400.0  6800.0    Ha_br2 ...      0      0    0.05     1\n",
       "6564.61       Ha  6400.0  6800.0     Ha_na ...      1      0   0.002     1\n",
       "6549.85       Ha  6400.0  6800.0   NII6549 ...      1      1   0.001     1\n",
       "6585.28       Ha  6400.0  6800.0   NII6585 ...      1      1   0.003     1\n",
       "6718.29       Ha  6400.0  6800.0   SII6718 ...      1      2   0.001     1\n",
       "6732.67       Ha  6400.0  6800.0   SII6732 ...      1      2   0.001     1\n",
       "4862.68       Hb  4640.0  5100.0    Hb_br1 ...      0      0    0.01     1\n",
       "4862.68       Hb  4640.0  5100.0    Hb_br2 ...      0      0    0.01     1\n",
       "4862.68       Hb  4640.0  5100.0     Hb_na ...      1      0   0.002     1\n",
       " 4960.3       Hb  4640.0  5100.0 OIII4959c ...      1      0   0.002     1\n",
       "5008.24       Hb  4640.0  5100.0 OIII5007c ...      1      0   0.004     1\n",
       " 4960.3       Hb  4640.0  5100.0 OIII4959w ...      2      0   0.001     1\n",
       "5008.24       Hb  4640.0  5100.0 OIII5007w ...      2      0   0.002     1\n",
       "2798.75     MgII  2700.0  2900.0   MgII_br ...      0      0    0.05     1\n",
       "2798.75     MgII  2700.0  2900.0   MgII_na ...      1      0   0.002     1\n",
       "1908.73     CIII  1700.0  1970.0   CIII_br ...      0      0    0.01     1\n",
       "1549.06      CIV  1500.0  1700.0    CIV_br ...      0      0    0.05     1\n",
       "1215.67      Lya  1150.0  1290.0    Lya_br ...      0      0    0.05     1\n",
       "1240.14      Lya  1150.0  1290.0    NV1240 ...      0      0   0.002     1"
      ]
     },
     "execution_count": 74,
     "metadata": {},
     "output_type": "execute_result"
    }
   ],
   "source": [
    "Table(fits.open('qsopar_std.fits')[1].data)"
   ]
  },
  {
   "cell_type": "markdown",
   "metadata": {},
   "source": [
    "\n",
    "### Run the Fitting"
   ]
  },
  {
   "cell_type": "code",
   "execution_count": null,
   "metadata": {},
   "outputs": [],
   "source": [
    "path_out = process_i_refit(i_1=30, i_2=20, fits_file='CSST_IFS_CUBE.fits', z=0.003373, format='csst')"
   ]
  }
 ],
 "metadata": {
  "kernelspec": {
   "display_name": "base",
   "language": "python",
   "name": "python3"
  },
  "language_info": {
   "codemirror_mode": {
    "name": "ipython",
    "version": 3
   },
   "file_extension": ".py",
   "mimetype": "text/x-python",
   "name": "python",
   "nbconvert_exporter": "python",
   "pygments_lexer": "ipython3",
   "version": "3.11.4"
  }
 },
 "nbformat": 4,
 "nbformat_minor": 2
}
